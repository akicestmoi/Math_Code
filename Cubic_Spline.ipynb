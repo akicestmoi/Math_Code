{
 "cells": [
  {
   "cell_type": "markdown",
   "metadata": {},
   "source": [
    "# Coding Cubic Spline interpolation from scratch\n",
    "___"
   ]
  },
  {
   "cell_type": "code",
   "execution_count": 1,
   "metadata": {},
   "outputs": [],
   "source": [
    "import numpy as np\n",
    "import matplotlib.pyplot as plt"
   ]
  },
  {
   "cell_type": "code",
   "execution_count": 2,
   "metadata": {},
   "outputs": [],
   "source": [
    "# Base Data\n",
    "X = []\n",
    "Y = [1, 3, 2, 10, 1.65, 2.3, 15, 10, 7.89]\n",
    "X_interpolate = np.linspace(0, np.max(X), 100)"
   ]
  },
  {
   "cell_type": "markdown",
   "metadata": {},
   "source": [
    "## Code and math demonstration\n",
    "___"
   ]
  },
  {
   "cell_type": "markdown",
   "metadata": {},
   "source": [
    "For each node, there is a cubic function in the form:  \n",
    "$$ S_i(x) = a_{i}(x - x_{i})^3 + b_{i}(x - x_{i})^2 + c_{i}(x - x_{i}) + d_{i} $$  \n",
    "Therefore, for a $n$ size dataset, there are $n-1$ equations.  \n",
    "\n",
    "In order to find each parameters, we have the following conditions:  \n",
    "(1) $ S_i(x_i) = y_i $ for $1$ to $n-1$  \n",
    "(2) $ S_{i}(x_{i+1}) = y_{i+1} $ for $1$ to $n-1$   \n",
    "(3) $ S'_{i}(x_{i+1}) = S'_{i+1}(x_{i+1}) $ for $1$ to $n-2$   \n",
    "(4) $ S''_{i}(x_{i+1}) = S''_{i+1}(x_{i+1}) $ for $1$ to $n-2$   \n",
    "(5) $ S''_{1}(x_1) = S''_{n-1}(x_n) = 0 $  \n",
    "  \n",
    "We will solve the system using linear algebra, e.g. Matrix multiplication between the equation system matrix and the output vector. "
   ]
  },
  {
   "cell_type": "markdown",
   "metadata": {},
   "source": [
    "- Condition (1) gives from $1$ to $n-1$:  \n",
    "$$ S_i(x_i) = y_i $$\n",
    "$$ \\Leftrightarrow a_i(x_i - x_i)^3 + b_i(x_i - x_i)^2 + c_i(x_i - x_i) + d_i = y_i $$\n",
    "$$ \\Leftrightarrow d_i = y_i $$  "
   ]
  },
  {
   "cell_type": "code",
   "execution_count": 3,
   "metadata": {},
   "outputs": [],
   "source": [
    "# Generate Condition 1 matrix\n",
    "def cond_1_matrix(X, Y):\n",
    "    \n",
    "    # Initialize the matrix\n",
    "    # Size is 4(n-1) x (n-1), rows = number of coefficient (4 per equation), rows = number of equation (e.g. number of node)\n",
    "    n = len(X)\n",
    "    coef_matrix = np.zeros((n-1, 4*(n-1)))\n",
    "    \n",
    "    # Initialize the result vector\n",
    "    result_vector = []\n",
    "    \n",
    "    # Input values according to Condition 1\n",
    "    for i in range(n-1):\n",
    "        \n",
    "        # As d_i is always 1\n",
    "        coef_matrix[i, 4*(i+1)-1] = 1\n",
    "        result_vector.append(Y[i])\n",
    "    \n",
    "    return coef_matrix, result_vector"
   ]
  },
  {
   "cell_type": "markdown",
   "metadata": {},
   "source": [
    "- Condition (2) gives from $1$ to $n-1$:  \n",
    "$$ S_{i}(x_{i+1}) = y_{i+1} $$\n",
    "$$ \\Leftrightarrow a_{i}(x_{i+1} - x_{i})^3 + b_{i}(x_{i+1} - x_{i})^2 + c_{i}(x_{i+1} - x_{i}) + d_{i} = y_{i+1} $$\n",
    "$$ \\Leftrightarrow a_{i}(x_{i+1}^3 - 3x_{i+1}^{2}x_{i} + 3x_{i+1}x_{i}^{2} - x_{i}^{3}) + b_{i}(x_{i+1}^2 - 2x_{i+1}x_{i} + x_{i}^{2}) + c_{i}(x_{i+1} - x_{i}) + d_{i} = y_{i+1} $$"
   ]
  },
  {
   "cell_type": "code",
   "execution_count": 4,
   "metadata": {},
   "outputs": [],
   "source": [
    "# Generate Condition 2 matrix\n",
    "def cond_2_matrix(X, Y):\n",
    "    \n",
    "    # Initialize the matrix\n",
    "    # Size is 4(n-1) x (n-1), rows = number of coefficient (4 per equation), rows = number of equation (e.g. number of node)\n",
    "    n = len(X)\n",
    "    coef_matrix = np.zeros((n-1, 4*(n-1)))\n",
    "\n",
    "    # Create the result vector\n",
    "    result_vector = []\n",
    "    \n",
    "    # Input values according to Condition 2\n",
    "    for i in range(n-1):\n",
    "        a_x = (X[i+1]**3)  - 3*(X[i+1]**2)*(X[i]) + 3*(X[i+1])*(X[i]**2) - (X[i]**3)\n",
    "        b_x = (X[i+1]**2) - 2*(X[i+1])*(X[i]) + (X[i]**2)\n",
    "        c_x = X[i+1] - X[i]\n",
    "        d_x = 1\n",
    "            \n",
    "        coef_matrix[i, 4*(i+1)-4] = a_x\n",
    "        coef_matrix[i, 4*(i+1)-3] = b_x\n",
    "        coef_matrix[i, 4*(i+1)-2] = c_x\n",
    "        coef_matrix[i, 4*(i+1)-1] = d_x\n",
    "    \n",
    "        result_vector.append(Y[i+1])\n",
    "    \n",
    "    return coef_matrix, result_vector"
   ]
  },
  {
   "cell_type": "markdown",
   "metadata": {},
   "source": [
    "- Condition (3) gives from $1$ to $n-2$:  \n",
    "$$ S'_{i}(x_{i+1}) = S'_{i+1}(x_{i+1}) $$\n",
    "We have:\n",
    "$$ S_{i}(x_{i+1}) = a_{i}(x_{i+1}^3 - 3x_{i+1}^{2}x_{i} + 3x_{i+1}x_{i}^{2} - x_{i}^{3}) + b_{i}(x_{i+1}^2 - 2x_{i+1}x_{i} + x_{i}^{2}) + c_{i}(x_{i+1} - x_{i}) + d_{i} $$\n",
    "$$ \\Leftrightarrow  S'_{i}(x_{i+1}) = a_{i}(3x_{i+1}^2 - 6x_{i+1}x_{i} + 3x_{i}^{2}) + b_{i}(2x_{i+1} - 2x_{i}) + c_{i} $$\n",
    "And also (for clarity sake, we make the distinction between $x_{i+1}$ which is not a constant and $x_{i+1}^{[c]}$ the constant):  \n",
    "$$ S_{i+1}(x_{i+1}) = a_{i+1}(x_{i+1}^3 - 3x_{i+1}^{2}x_{i+1}^{[c]} + 3x_{i+1}x_{i+1}^{[c]2} - x_{i+1}^{[c]3}) + b_{i+1}(x_{i+1}^2 - 2x_{i+1}x_{i+1}^{[c]} + x_{i+1}^{[c]2}) + c_{i+1}(x_{i+1} - x_{i+1}^{[c]}) + d_{i+1} $$\n",
    "$$ \\Leftrightarrow  S'_{i+1}(x_{i+1}) = a_{i+1}(3x_{i+1}^2 - 6x_{i+1}x_{i+1}^{[c]} + 3x_{i+1}^{[c]2}) + b_{i+1}(2x_{i+1} - 2x_{i+1}^{[c]}) + c_{i+1} $$\n",
    "Given $x_{i+1} = x_{i+1}^{[c]}$, we thus get :\n",
    "$$ \\Leftrightarrow  S'_{i+1}(x_{i+1}) = c_{i+1} $$\n",
    "As such, we finally obtain:\n",
    "$$ S'_{i}(x_{i+1}) = S'_{i+1}(x_{i+1}) $$\n",
    "$$ \\Leftrightarrow a_{i}(3x_{i+1}^2 - 6x_{i+1}x_{i} + 3x_{i}^{2}) + b_{i}(2x_{i+1} - 2x_{i}) + c_{i} = c_{i+1} $$\n",
    "$$ \\Leftrightarrow a_{i}(3x_{i+1}^2 - 6x_{i+1}x_{i} + 3x_{i}^{2}) + b_{i}(2x_{i+1} - 2x_{i}) + c_{i} - c_{i+1} = 0 $$"
   ]
  },
  {
   "cell_type": "code",
   "execution_count": 5,
   "metadata": {},
   "outputs": [],
   "source": [
    "# Generate Condition 3 matrix\n",
    "def cond_3_matrix(X, Y):\n",
    "    \n",
    "    # Initialize the matrix\n",
    "    # Size is 4(n-1) x (n-2), rows = number of coefficient (4 per equation), rows = number of equation (e.g. number of node)\n",
    "    n = len(X)\n",
    "    coef_matrix = np.zeros((n-2, 4*(n-1)))\n",
    "\n",
    "    # Initialize the result vector\n",
    "    result_vector = [0] * (n-2)\n",
    "    \n",
    "    # Input values according to Condition 3\n",
    "    for i in range(n-2):\n",
    "        a_x = 3*(X[i+1]**2)  - 6*(X[i+1])*(X[i]) + 3*(X[i]**2)\n",
    "        b_x = 2*(X[i+1]) - 2*(X[i])\n",
    "        c_x = 1\n",
    "        c_x_sec = -1\n",
    "        \n",
    "        coef_matrix[i, 4*i] = a_x\n",
    "        coef_matrix[i, 4*i + 1] = b_x\n",
    "        coef_matrix[i, 4*i + 2] = c_x\n",
    "        coef_matrix[i, 4*i + 6] = c_x_sec\n",
    "    \n",
    "    return coef_matrix, result_vector"
   ]
  },
  {
   "cell_type": "markdown",
   "metadata": {},
   "source": [
    "- Condition (4) gives from $1$ to $n-2$:  \n",
    "$$ S''_{i}(x_{i+1}) = S''_{i+1}(x_{i+1}) $$\n",
    "We have:\n",
    "$$ S'_{i}(x_{i+1}) = a_{i}(3x_{i+1}^2 - 6x_{i+1}x_{i} + 3x_{i}^{2}) + b_{i}(2x_{i+1} - 2x_{i}) + c_{i} $$\n",
    "$$ \\Leftrightarrow  S''_{i}(x_{i+1}) = a_{i}(6x_{i+1} - 6x_{i}) + 2b_{i} $$\n",
    "\n",
    "And also (for clarity sake, we make the distinction between $x_{i+1}$ which is not a constant and $x_{i+1}^{[c]}$ the constant):  \n",
    "$$ S'_{i+1}(x_{i+1}) = a_{i+1}(3x_{i+1}^2 - 6x_{i+1}x_{i+1}^{[c]} + 3x_{i+1}^{[c]2}) + b_{i+1}(2x_{i+1} - 2x_{i+1}^{[c]}) + c_{i+1} $$\n",
    "$$ \\Leftrightarrow S''_{i+1}(x_{i+1}) = a_{i+1}(6x_{i+1} - 6x_{i+1}^{[c]}) + 2b_{i+1} $$\n",
    "Given $x_{i+1} = x_{i+1}^{[c]}$, we thus get :\n",
    "$$ \\Leftrightarrow  S''_{i+1}(x_{i+1}) = 2b_{i+1} $$\n",
    "As such, we finally obtain:\n",
    "$$ S''_{i}(x_{i+1}) = S''_{i+1}(x_{i+1}) $$\n",
    "$$ \\Leftrightarrow a_{i}(6x_{i+1} - 6x_{i}) + 2b_{i} = 2b_{i+1} $$\n",
    "$$ \\Leftrightarrow a_{i}(6x_{i+1} - 6x_{i}) + 2b_{i} - 2b_{i+1} = 0 $$"
   ]
  },
  {
   "cell_type": "code",
   "execution_count": 6,
   "metadata": {},
   "outputs": [],
   "source": [
    "# Generate Condition 4 matrix\n",
    "def cond_4_matrix(X, Y):\n",
    "    \n",
    "    # Initialize the matrix\n",
    "    # Size is 4(n-1) x (n-2), rows = number of coefficient (4 per equation), rows = number of equation (e.g. number of node)\n",
    "    n = len(X)\n",
    "    coef_matrix = np.zeros((n-2, 4*(n-1)))\n",
    "\n",
    "    # Initialize the result vector\n",
    "    result_vector = [0] * (n-2)\n",
    "    \n",
    "    # Input values according to Condition 4\n",
    "    for i in range(n-2):\n",
    "        a_x = 6*(X[i+1]) - 6*(X[i])\n",
    "        b_x = 2\n",
    "        b_x_sec = -2\n",
    "            \n",
    "        coef_matrix[i, 4*i] = a_x\n",
    "        coef_matrix[i, 4*i + 1] = b_x\n",
    "        coef_matrix[i, 4*i + 5] = b_x_sec\n",
    "    \n",
    "    return coef_matrix, result_vector"
   ]
  },
  {
   "cell_type": "markdown",
   "metadata": {},
   "source": [
    "- Condition (5) gives 2 final equations to solve the system:  \n",
    "$$ S''_1(x_1) = 0 $$\n",
    "$$ \\Leftrightarrow a_{1}(6x_{1} - 6x_{1}) + 2b_{1} = 0 $$\n",
    "$$ \\Leftrightarrow 2b_{1} = 0 $$\n",
    "And:\n",
    "$$ S''_{n-1}(x_n) = 0 $$\n",
    "$$ \\Leftrightarrow a_{n-1}(6x_{n} - 6x_{n-1}) + 2b_{n-1} = 0 $$"
   ]
  },
  {
   "cell_type": "code",
   "execution_count": 7,
   "metadata": {},
   "outputs": [],
   "source": [
    "# Generate Condition 5 matrix\n",
    "def cond_5_matrix(X, Y):\n",
    "    \n",
    "    # Initialize the matrix\n",
    "    # Size is 4(n-1) x (n-2), rows = number of coefficient (4 per equation), rows = number of equation (e.g. number of node)\n",
    "    n = len(X)\n",
    "    coef_matrix = np.zeros((2, 4*(n-1)))\n",
    "\n",
    "    # Initialize the result vector\n",
    "    result_vector = [0] * 2\n",
    "    \n",
    "    # Input values according to Condition 5\n",
    "    coef_matrix[0, 1] = 2\n",
    "    coef_matrix[1, 4*(n-2)] = 6*X[n-1] - 6*X[n-2]\n",
    "    coef_matrix[1, 4*(n-2)+1] = 2\n",
    "    \n",
    "    return coef_matrix, result_vector"
   ]
  },
  {
   "cell_type": "code",
   "execution_count": 8,
   "metadata": {},
   "outputs": [],
   "source": [
    "def create_spline_matrices(X, Y):\n",
    "    \n",
    "    matrix_function = {'Condition_1': cond_1_matrix, 'Condition_2': cond_2_matrix, 'Condition_3': cond_3_matrix, \n",
    "                       'Condition_4': cond_4_matrix, 'Condition_5': cond_5_matrix}\n",
    "    \n",
    "    coef_matrix = np.array([]) \n",
    "    result_vector = []\n",
    "    \n",
    "    for i in range(1, 6):\n",
    "        temp_matrix, temp_vector = matrix_function['Condition_' + str(i)](X, Y)\n",
    "        \n",
    "        if i == 1:\n",
    "            coef_matrix = temp_matrix \n",
    "        else:\n",
    "            coef_matrix = np.concatenate((coef_matrix, temp_matrix))\n",
    "        \n",
    "        result_vector += temp_vector\n",
    "    \n",
    "    result_vector = np.array(result_vector)\n",
    "    result_vector = result_vector[:, np.newaxis]\n",
    "    \n",
    "    return coef_matrix, result_vector"
   ]
  },
  {
   "cell_type": "markdown",
   "metadata": {},
   "source": [
    "Let $M$ be the matrix representing the equation system, $A$ be the parameter column vector and $Z$ the output column vector.  \n",
    "We therefore have: $MA = Z$.  \n",
    "Thus far, we have created $M$ and $Z$ in order to calculate $A$ which can now be obtained by: $ A = M^{-1}Z $."
   ]
  },
  {
   "cell_type": "code",
   "execution_count": 9,
   "metadata": {},
   "outputs": [],
   "source": [
    "# To Do Matrix Inversion Function\n",
    "def matrix_inversion(input_matrix):\n",
    "    \n",
    "    return inverted_matrix"
   ]
  },
  {
   "cell_type": "code",
   "execution_count": 10,
   "metadata": {},
   "outputs": [],
   "source": [
    "def calculate_parameters(coef_matrix, result_vector):\n",
    "    \n",
    "    parameters = np.dot(np.linalg.inv(coef_matrix), result_vector)\n",
    "    \n",
    "    return parameters"
   ]
  },
  {
   "cell_type": "markdown",
   "metadata": {},
   "source": [
    "Once $S_i(x)$ for $1$ to $n-1$ has been found, the interpolation function needs to find the range where the value to interpolate fits, and apply the respective $S_i(x)$."
   ]
  },
  {
   "cell_type": "code",
   "execution_count": 11,
   "metadata": {},
   "outputs": [],
   "source": [
    "def Cubic_Spline(t, X, Y):\n",
    "    \n",
    "    # Initialization of resulting variables\n",
    "    all_ranges = {}\n",
    "    ordered_parameters = {}\n",
    "    interpolation_result = []\n",
    "    \n",
    "    n = len(X)\n",
    "    \n",
    "    # Get M, A and Z\n",
    "    coef_matrix, result_vector = create_spline_matrices(X, Y)\n",
    "    parameters = calculate_parameters(coef_matrix, result_vector)\n",
    "    \n",
    "    \n",
    "    for i in range(n-1):\n",
    "        all_ranges[i] = [X[i], X[i+1]]\n",
    "        ordered_parameters[i] = {'a': parameters[4*(i)][0], 'b': parameters[4*(i)+1][0], 'c': parameters[4*(i)+2][0], \n",
    "                                 'd': parameters[4*(i)+3][0]}\n",
    "    \n",
    "    for i in range(len(t)):\n",
    "        if t[i] < all_ranges[0][0]:\n",
    "            idx = 0\n",
    "        elif t[i] > all_ranges[n-2][1]:\n",
    "            idx = n-2\n",
    "        else:\n",
    "            for j in range(n-1):\n",
    "                if (t[i] >= all_ranges[j][0]) & (t[i] <= all_ranges[j][1]):\n",
    "                    idx = j\n",
    "\n",
    "        result = (ordered_parameters[idx]['a'] * (t[i] - X[idx])**3 + ordered_parameters[idx]['b'] * (t[i] - X[idx])**2 + \n",
    "                  ordered_parameters[idx]['c'] * (t[i] - X[idx]) + ordered_parameters[idx]['d'])\n",
    "        interpolation_result.append(result)\n",
    "    \n",
    "    return interpolation_result, all_ranges, ordered_parameters, parameters"
   ]
  },
  {
   "cell_type": "code",
   "execution_count": 12,
   "metadata": {},
   "outputs": [],
   "source": [
    "interpolation_result, all_ranges, ordered_parameters, parameters = Cubic_Spline(X_interpolate, X, Y)"
   ]
  },
  {
   "cell_type": "code",
   "execution_count": 13,
   "metadata": {
    "scrolled": false
   },
   "outputs": [
    {
     "data": {
      "image/png": "[encoded data removed]",
      "text/plain": [
       "<Figure size 720x576 with 1 Axes>"
      ]
     },
     "metadata": {
      "needs_background": "light"
     },
     "output_type": "display_data"
    }
   ],
   "source": [
    "plt.figure(figsize = (10,8))\n",
    "plt.plot(X_interpolate, interpolation_result, 'b')\n",
    "plt.plot(X, Y, 'ro')\n",
    "plt.title('Own Cubic Spline Interpolation')\n",
    "plt.show()"
   ]
  },
  {
   "cell_type": "markdown",
   "metadata": {},
   "source": [
    "## Comparing result with Scipy CubicSpline\n",
    "___"
   ]
  },
  {
   "cell_type": "code",
   "execution_count": 14,
   "metadata": {},
   "outputs": [
    {
     "data": {
      "image/png": "[encoded data removed]",
      "text/plain": [
       "<Figure size 720x576 with 1 Axes>"
      ]
     },
     "metadata": {
      "needs_background": "light"
     },
     "output_type": "display_data"
    }
   ],
   "source": [
    "from scipy import interpolate\n",
    "\n",
    "f = interpolate.CubicSpline(X, Y, bc_type='natural')\n",
    "scipy_interpolation = f(X_interpolate)\n",
    "\n",
    "plt.figure(figsize = (10,8))\n",
    "plt.plot(X_interpolate, scipy_interpolation, 'b')\n",
    "plt.plot(X, Y, 'ro')\n",
    "plt.title('Scipy Cubic Spline Interpolation')\n",
    "plt.show()"
   ]
  },
  {
   "cell_type": "code",
   "execution_count": 15,
   "metadata": {},
   "outputs": [
    {
     "data": {
      "text/plain": [
       "-0.0"
      ]
     },
     "execution_count": 15,
     "metadata": {},
     "output_type": "execute_result"
    }
   ],
   "source": [
    "round(np.sum(np.subtract(interpolation_result, scipy_interpolation)), 2)"
   ]
  }
 ],
 "metadata": {
  "kernelspec": {
   "display_name": "Python 3.7.4 64-bit (virtualenv)",
   "language": "python",
   "name": "python37464bitvirtualenvd49ce7ba8427496382928b5da9434d21"
  },
  "language_info": {
   "codemirror_mode": {
    "name": "ipython",
    "version": 3
   },
   "file_extension": ".py",
   "mimetype": "text/x-python",
   "name": "python",
   "nbconvert_exporter": "python",
   "pygments_lexer": "ipython3",
   "version": "3.7.4"
  }
 },
 "nbformat": 4,
 "nbformat_minor": 2
}
